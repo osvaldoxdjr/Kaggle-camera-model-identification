{
 "cells": [
  {
   "cell_type": "code",
   "execution_count": 5,
   "metadata": {},
   "outputs": [],
   "source": [
    "from PIL import Image\n",
    "import matplotlib.pyplot as plt\n",
    "import pandas as pd\n",
    "import numpy as np\n",
    "from pathlib import Path\n",
    "from skimage.feature import local_binary_pattern\n",
    "import os\n",
    "import cv2"
   ]
  },
  {
   "cell_type": "code",
   "execution_count": 6,
   "metadata": {},
   "outputs": [],
   "source": [
    "input_path = Path('../Kaggle-camera-model-identification/data')\n",
    "train_path = input_path / 'train'\n",
    "test_path = input_path / 'test'"
   ]
  },
  {
   "cell_type": "code",
   "execution_count": 7,
   "metadata": {},
   "outputs": [],
   "source": [
    "cameras = os.listdir(train_path)"
   ]
  },
  {
   "cell_type": "code",
   "execution_count": 83,
   "metadata": {},
   "outputs": [],
   "source": [
    "train_images = []\n",
    "for camera in cameras:\n",
    "    for fname in sorted(os.listdir(train_path / camera)):\n",
    "        train_images.append((camera, fname))\n",
    "train = pd.DataFrame(train_images, columns=['camera', 'fname'])"
   ]
  },
  {
   "cell_type": "code",
   "execution_count": 84,
   "metadata": {},
   "outputs": [],
   "source": [
    "test_images = []\n",
    "for fname in sorted(os.listdir(test_path)):\n",
    "    test_images.append(fname)\n",
    "test = pd.DataFrame(test_images, columns=['fname'])"
   ]
  },
  {
   "cell_type": "code",
   "execution_count": 85,
   "metadata": {},
   "outputs": [
    {
     "name": "stdout",
     "output_type": "stream",
     "text": [
      "<generator object DataFrame.iterrows at 0x7fe78102c048>\n",
      "Motorola-Nexus-6\n",
      "Extracting feature from image 0\n",
      "Motorola-Nexus-6\n",
      "Extracting feature from image 1\n",
      "Motorola-Nexus-6\n",
      "Extracting feature from image 2\n",
      "Motorola-Nexus-6\n",
      "Extracting feature from image 3\n",
      "Motorola-Nexus-6\n",
      "Extracting feature from image 4\n"
     ]
    }
   ],
   "source": [
    "x = []\n",
    "\n",
    "print(train.iterrows())\n",
    "\n",
    "for i, j in train.iterrows():\n",
    "    print('%s'%(j['camera']))\n",
    "    print('Extracting feature from image %i'%i)\n",
    "    path_im = train_path / j['camera'] / j['fname']\n",
    "    im = Image.open(path_im)\n",
    "    im_gray = cv2.cvtColor(np.array(im), cv2.COLOR_RGB2GRAY)\n",
    "    #plt.imshow(im)\n",
    "    #plt.imshow(im_gray)\n",
    "    radius = 3\n",
    "    n_points = 8 * radius\n",
    "    lbp = local_binary_pattern(im_gray, n_points, radius)\n",
    "    #plt.imshow(lbp, cmap='gray')\n",
    "    a = lbp.ravel()\n",
    "    #(fig, ax) = plt.subplots()\n",
    "    #ax.hist(lbp.ravel(), normed=True, bins=20, range=(0,256))"
   ]
  },
  {
   "cell_type": "code",
   "execution_count": null,
   "metadata": {},
   "outputs": [],
   "source": []
  }
 ],
 "metadata": {
  "kernelspec": {
   "display_name": "Python 3",
   "language": "python",
   "name": "python3"
  },
  "language_info": {
   "codemirror_mode": {
    "name": "ipython",
    "version": 3
   },
   "file_extension": ".py",
   "mimetype": "text/x-python",
   "name": "python",
   "nbconvert_exporter": "python",
   "pygments_lexer": "ipython3",
   "version": "3.6.4"
  }
 },
 "nbformat": 4,
 "nbformat_minor": 2
}
