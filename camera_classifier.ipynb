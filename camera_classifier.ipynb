{
  "cells": [
    {
      "metadata": {
        "_cell_guid": "c555bfa8-b98e-4a64-93ef-a74636b95a9f",
        "_uuid": "7f4433826f377d7075029346549f44864b87eb4c",
        "collapsed": true,
        "trusted": true
      },
      "cell_type": "code",
      "source": "import os\nimport time\nfrom pathlib import Path\nimport pandas as pd\nimport numpy as np\nimport matplotlib.pyplot as plt\nfrom skimage.restoration import denoise_wavelet\nfrom skimage.feature import local_binary_pattern\nimport cv2",
      "execution_count": null,
      "outputs": []
    },
    {
      "metadata": {
        "_cell_guid": "ff9641d7-ecb4-417e-acfe-32de856ee7c7",
        "_uuid": "3ce419710a34b287ae5459cf06e63f39fa9e3c89",
        "collapsed": true,
        "trusted": true
      },
      "cell_type": "code",
      "source": "# Feature Extration using local binary pattern\ndef lbp_feature_extraction(im, n_points, radius, method):\n    im_gray = cv2.cvtColor(np.array(im), cv2.COLOR_RGB2GRAY)\n    lbp = local_binary_pattern(im_gray, n_points, radius, method)\n    # Features returned are the hisogram of resulting data from lbp algorithm\n    (hist, _) = np.histogram(lbp.ravel(), bins=np.arange(0, n_points + 3), range=(0, radius + 2), normed=True)\n    return hist",
      "execution_count": null,
      "outputs": []
    },
    {
      "metadata": {
        "_cell_guid": "c9406230-69f6-4b4f-9125-4ec5067c88ea",
        "_uuid": "e2f22fbd2af0fad38afdd29d1e5915088a15c9d6",
        "collapsed": true,
        "trusted": true
      },
      "cell_type": "code",
      "source": "# Generating train and test path\ninput_path = Path('../input')\ntrain_path = input_path / 'train'\ntest_path = input_path / 'test'",
      "execution_count": null,
      "outputs": []
    },
    {
      "metadata": {
        "_cell_guid": "9cfc24c9-bd9b-479e-877d-aeb906fb8f73",
        "_uuid": "145cca5f8286bbbbe8a8617c818406f0e4a290b2",
        "collapsed": true,
        "trusted": true
      },
      "cell_type": "code",
      "source": "# Listing all directories in trainning path\ncameras = os.listdir(train_path)",
      "execution_count": null,
      "outputs": []
    },
    {
      "metadata": {
        "_cell_guid": "22c7e87e-9fde-40ef-a92d-a16bca32cf8c",
        "_uuid": "7b8f7888f687bd04c34d5daafca4c22009671c77",
        "collapsed": true,
        "trusted": true
      },
      "cell_type": "code",
      "source": "# Generating DataFrame of images and labes in the trainning dataset\ntrain_images = []\nfor camera in cameras:\n    for fname in sorted(os.listdir(train_path / camera)):\n        train_images.append((camera, fname))\ntrain = pd.DataFrame(train_images, columns=['camera', 'fname'])",
      "execution_count": null,
      "outputs": []
    },
    {
      "metadata": {
        "_cell_guid": "620c9e93-c615-444c-a564-39c603e25545",
        "_uuid": "59e4c960dd5cba6122eaa715accf1374df90b0e7",
        "collapsed": true,
        "trusted": true
      },
      "cell_type": "code",
      "source": "# Generating DataFrame of images and labes in the testing dataset\ntest_images = []\nfor fname in sorted(os.listdir(test_path)):\n    test_images.append(fname)\ntest = pd.DataFrame(test_images, columns=['fname'])",
      "execution_count": null,
      "outputs": []
    },
    {
      "metadata": {
        "_cell_guid": "87a9e5d1-a824-493f-ba10-2d5e636bb843",
        "_uuid": "3e3b8288a823e3b7c0c46627a09be7350c62baea",
        "collapsed": true,
        "trusted": true
      },
      "cell_type": "code",
      "source": "seg = train[train['camera'] == cameras[0]]\nseg = seg.reset_index()\npath_im = train_path / seg.get_value(0, 'camera') / seg.get_value(80, 'fname')\nprint(path_im)\nbgr_image = cv2.imread(str(path_im))\nrgb_image = cv2.cvtColor(bgr_image, cv2.COLOR_BGR2RGB)\nim = cv2.resize(rgb_image, (100, 50))\nim_gray = cv2.cvtColor(np.array(im), cv2.COLOR_RGB2GRAY)",
      "execution_count": null,
      "outputs": []
    },
    {
      "metadata": {
        "_cell_guid": "ae01e175-744a-4a78-b169-892cf091627f",
        "_uuid": "37b04a8a4415f69631b53709c44434711560261e",
        "collapsed": true,
        "trusted": true
      },
      "cell_type": "code",
      "source": "plt.imshow(im)\nplt.figure()\nplt.imshow(im_gray, cmap='gray')\nradius = 3\nn_points = 8\nlbp = local_binary_pattern(im_gray, n_points, radius)\nplt.figure()\nplt.imshow(lbp, cmap='gray')\n\n# Procedure to mount feature vectors\ndata = []\ntarget = []\nm_samples = np.shape(train)[0]\nstart = time.time()\nfor camera in cameras:\n    print(\"Feature extraction: %s\"%(camera))\n    for i in range(5):\n        print(\"Example %i\"%i)\n        seg = train[train['camera'] == camera]\n        seg = seg.reset_index()\n        path_im = train_path / seg.get_value(i, 'camera') / seg.get_value(i, 'fname')\n        bgr_image = cv2.imread(str(path_im))\n        im = cv2.cvtColor(bgr_image, cv2.COLOR_BGR2RGB)\n        data.append(lbp_feature_extraction(im, 24, 8, 'uniform'))\n        target.append(seg.get_value(0, 'camera'))\nend = time.time()\nprint('The time elapsed to extract all lbp features was: %f'%(end-start))\n\nprint(data, target)",
      "execution_count": null,
      "outputs": []
    },
    {
      "metadata": {
        "_cell_guid": "797ddec5-ebc6-4aae-96d4-e9f716dacc7d",
        "_uuid": "6ae4de5b735210dc7e4f90208da061a61862f116",
        "collapsed": true,
        "trusted": true
      },
      "cell_type": "code",
      "source": "im_wav = denoise_wavelet(im)\nprint(np.shape(im_wav))\nplt.imshow(im_wav)\nnoise = im - im_wav\nprint(np.shape(noise))\nprint(np.round(noise))\nplt.figure()\nplt.imshow(np.round(noise))",
      "execution_count": null,
      "outputs": []
    },
    {
      "metadata": {
        "_cell_guid": "74ff2618-45b4-4b0d-84f5-c85d2243bc74",
        "_uuid": "095bd27d99a899b9a8812d2ec138150d91be9605",
        "collapsed": true,
        "trusted": true
      },
      "cell_type": "code",
      "source": "a = lbp.ravel()\nprint(a[:30])",
      "execution_count": null,
      "outputs": []
    },
    {
      "metadata": {
        "_cell_guid": "98bbe5ab-f6c4-4e4b-8272-e118c9c2628d",
        "_uuid": "d47c23265bcb7c2adf24bf643f9fbfc2afe8a121",
        "collapsed": true,
        "trusted": true
      },
      "cell_type": "code",
      "source": "(fig, ax) = plt.subplots()\nax.hist(lbp.ravel(), normed=True, bins=20, range=(0,256))",
      "execution_count": null,
      "outputs": []
    },
    {
      "metadata": {
        "_cell_guid": "a06bd2bc-f575-48b8-9edb-4ef003fcda4b",
        "_uuid": "af16615a85b8ab03b45aba9626152ebce8da7da7",
        "collapsed": true,
        "trusted": true
      },
      "cell_type": "code",
      "source": "denoise_wavelet",
      "execution_count": null,
      "outputs": []
    },
    {
      "metadata": {
        "_cell_guid": "a343c076-61bf-4814-b31e-3e4c2565489e",
        "_uuid": "1d0c6be8cf95bd561404ebface31da4cb4400ccf",
        "collapsed": true,
        "trusted": true
      },
      "cell_type": "code",
      "source": "'''\n# Automated applying feature extraction\nx = []\n\nprint(train.iterrows())\n\nfor i, j in train.iterrows():\n    print('%s'%(j['camera']))\n    print('Extracting feature from image %i'%i)\n    path_im = train_path / j['camera'] / j['fname']\n    im = Image.open(path_im)\n    im_gray = cv2.cvtColor(np.array(im), cv2.COLOR_RGB2GRAY)\n    #plt.imshow(im)\n    #plt.imshow(im_gray)\n    radius = 3\n    n_points = 8 * radius\n    lbp = local_binary_pattern(im_gray, n_points, radius)\n    #plt.imshow(lbp, cmap='gray')\n    a = lbp.ravel()\n    #(fig, ax) = plt.subplots()\n    #ax.hist(lbp.ravel(), normed=True, bins=20, range=(0,256))''''''",
      "execution_count": null,
      "outputs": []
    },
    {
      "metadata": {
        "_cell_guid": "8c40b534-976d-44c8-8e49-30b658a51f09",
        "_uuid": "ce6f7049bf45315a909da06e8877d37ed908e651",
        "collapsed": true,
        "trusted": true
      },
      "cell_type": "code",
      "source": "",
      "execution_count": null,
      "outputs": []
    }
  ],
  "metadata": {
    "kernelspec": {
      "display_name": "Python 3",
      "language": "python",
      "name": "python3"
    },
    "language_info": {
      "codemirror_mode": {
        "name": "ipython",
        "version": 3
      },
      "file_extension": ".py",
      "mimetype": "text/x-python",
      "name": "python",
      "nbconvert_exporter": "python",
      "pygments_lexer": "ipython3",
      "version": "3.6.4"
    }
  },
  "nbformat": 4,
  "nbformat_minor": 1
}